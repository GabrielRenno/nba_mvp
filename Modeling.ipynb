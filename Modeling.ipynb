{
 "cells": [
  {
   "cell_type": "code",
   "execution_count": 90,
   "metadata": {},
   "outputs": [],
   "source": [
    "#IMPORT MAIN PACKAGES\n",
    "import pandas as pd \n",
    "import numpy as np\n",
    "from tqdm import tqdm\n",
    "import pickle\n",
    "import matplotlib.pyplot as plt\n",
    "import seaborn as sns"
   ]
  },
  {
   "cell_type": "code",
   "execution_count": 91,
   "metadata": {},
   "outputs": [],
   "source": [
    "#READ MAIN FILE\n",
    "df = pd.read_pickle(\"df.pkl\")"
   ]
  },
  {
   "cell_type": "code",
   "execution_count": 92,
   "metadata": {},
   "outputs": [],
   "source": [
    "#DROP PRIMERY KEYS\n",
    "df.drop(columns=[\"LEAGUE_ID\",\"TEAM_ID\",\"TEAM_ABBREVIATION\"],inplace=True)"
   ]
  },
  {
   "cell_type": "code",
   "execution_count": 93,
   "metadata": {},
   "outputs": [],
   "source": [
    "#GET ONLY THE FIRST YEAR OF THE SEASON\n",
    "df['SEASON_ID'] = df['SEASON_ID'].map(lambda x: int(x.split(\"-\",1)[0]))"
   ]
  },
  {
   "cell_type": "code",
   "execution_count": 94,
   "metadata": {},
   "outputs": [],
   "source": [
    "#CREATE VARIABLE TO SUPPORT STANDARIZATION\n",
    "num_cols = ['PLAYER_AGE', 'GP', 'GS', 'MIN', 'FGM', 'FGA', 'FG_PCT', 'FG3M', 'FG3A',\n",
    "       'FG3_PCT', 'FTM', 'FTA', 'FT_PCT', 'OREB', 'DREB', 'REB', 'AST', 'STL',\n",
    "       'BLK', 'TOV', 'PF', 'PTS', 'WIN_PCT', 'CONF_RANK', 'DIV_RANK',\n",
    "       'player_of_week', 'player_of_month']"
   ]
  },
  {
   "cell_type": "code",
   "execution_count": 95,
   "metadata": {},
   "outputs": [
    {
     "name": "stderr",
     "output_type": "stream",
     "text": [
      "C:\\ProgramData\\Anaconda3\\lib\\site-packages\\sklearn\\preprocessing\\_data.py:400: RuntimeWarning: All-NaN slice encountered\n",
      "  data_min = np.nanmin(X, axis=0)\n",
      "C:\\ProgramData\\Anaconda3\\lib\\site-packages\\sklearn\\preprocessing\\_data.py:401: RuntimeWarning: All-NaN slice encountered\n",
      "  data_max = np.nanmax(X, axis=0)\n",
      "C:\\ProgramData\\Anaconda3\\lib\\site-packages\\sklearn\\preprocessing\\_data.py:400: RuntimeWarning: All-NaN slice encountered\n",
      "  data_min = np.nanmin(X, axis=0)\n",
      "C:\\ProgramData\\Anaconda3\\lib\\site-packages\\sklearn\\preprocessing\\_data.py:401: RuntimeWarning: All-NaN slice encountered\n",
      "  data_max = np.nanmax(X, axis=0)\n",
      "C:\\ProgramData\\Anaconda3\\lib\\site-packages\\sklearn\\preprocessing\\_data.py:400: RuntimeWarning: All-NaN slice encountered\n",
      "  data_min = np.nanmin(X, axis=0)\n",
      "C:\\ProgramData\\Anaconda3\\lib\\site-packages\\sklearn\\preprocessing\\_data.py:401: RuntimeWarning: All-NaN slice encountered\n",
      "  data_max = np.nanmax(X, axis=0)\n",
      "C:\\ProgramData\\Anaconda3\\lib\\site-packages\\sklearn\\preprocessing\\_data.py:400: RuntimeWarning: All-NaN slice encountered\n",
      "  data_min = np.nanmin(X, axis=0)\n",
      "C:\\ProgramData\\Anaconda3\\lib\\site-packages\\sklearn\\preprocessing\\_data.py:401: RuntimeWarning: All-NaN slice encountered\n",
      "  data_max = np.nanmax(X, axis=0)\n",
      "C:\\ProgramData\\Anaconda3\\lib\\site-packages\\sklearn\\preprocessing\\_data.py:400: RuntimeWarning: All-NaN slice encountered\n",
      "  data_min = np.nanmin(X, axis=0)\n",
      "C:\\ProgramData\\Anaconda3\\lib\\site-packages\\sklearn\\preprocessing\\_data.py:401: RuntimeWarning: All-NaN slice encountered\n",
      "  data_max = np.nanmax(X, axis=0)\n",
      "C:\\ProgramData\\Anaconda3\\lib\\site-packages\\sklearn\\preprocessing\\_data.py:400: RuntimeWarning: All-NaN slice encountered\n",
      "  data_min = np.nanmin(X, axis=0)\n",
      "C:\\ProgramData\\Anaconda3\\lib\\site-packages\\sklearn\\preprocessing\\_data.py:401: RuntimeWarning: All-NaN slice encountered\n",
      "  data_max = np.nanmax(X, axis=0)\n",
      "C:\\ProgramData\\Anaconda3\\lib\\site-packages\\sklearn\\preprocessing\\_data.py:400: RuntimeWarning: All-NaN slice encountered\n",
      "  data_min = np.nanmin(X, axis=0)\n",
      "C:\\ProgramData\\Anaconda3\\lib\\site-packages\\sklearn\\preprocessing\\_data.py:401: RuntimeWarning: All-NaN slice encountered\n",
      "  data_max = np.nanmax(X, axis=0)\n",
      "C:\\ProgramData\\Anaconda3\\lib\\site-packages\\sklearn\\preprocessing\\_data.py:400: RuntimeWarning: All-NaN slice encountered\n",
      "  data_min = np.nanmin(X, axis=0)\n",
      "C:\\ProgramData\\Anaconda3\\lib\\site-packages\\sklearn\\preprocessing\\_data.py:401: RuntimeWarning: All-NaN slice encountered\n",
      "  data_max = np.nanmax(X, axis=0)\n",
      "C:\\ProgramData\\Anaconda3\\lib\\site-packages\\sklearn\\preprocessing\\_data.py:400: RuntimeWarning: All-NaN slice encountered\n",
      "  data_min = np.nanmin(X, axis=0)\n",
      "C:\\ProgramData\\Anaconda3\\lib\\site-packages\\sklearn\\preprocessing\\_data.py:401: RuntimeWarning: All-NaN slice encountered\n",
      "  data_max = np.nanmax(X, axis=0)\n",
      "C:\\ProgramData\\Anaconda3\\lib\\site-packages\\sklearn\\preprocessing\\_data.py:400: RuntimeWarning: All-NaN slice encountered\n",
      "  data_min = np.nanmin(X, axis=0)\n",
      "C:\\ProgramData\\Anaconda3\\lib\\site-packages\\sklearn\\preprocessing\\_data.py:401: RuntimeWarning: All-NaN slice encountered\n",
      "  data_max = np.nanmax(X, axis=0)\n"
     ]
    }
   ],
   "source": [
    "# STANDARIZATION SEASON BY SEASON\n",
    "from sklearn.preprocessing import MinMaxScaler\n",
    "scaler = MinMaxScaler()\n",
    "for year in  df[\"SEASON_ID\"].unique().tolist():\n",
    "    for col in num_cols:\n",
    "        df.loc[df['SEASON_ID']==year, col] = scaler.fit_transform(df.loc[df['SEASON_ID']==year, col].to_numpy().reshape(-1,1))"
   ]
  },
  {
   "cell_type": "code",
   "execution_count": 96,
   "metadata": {},
   "outputs": [],
   "source": [
    "#SAMPLING\n",
    "train = df.loc[(df['SEASON_ID']>=2000)&(df['SEASON_ID']<=2020),:]\n",
    "test = df.loc[(df['SEASON_ID']==2021),:]"
   ]
  },
  {
   "cell_type": "code",
   "execution_count": 97,
   "metadata": {},
   "outputs": [],
   "source": [
    "#SAMPLING\n",
    "y = train['MVP']\n",
    "X = train.iloc[:,:-1]\n",
    "\n",
    "y_test = test['MVP']\n",
    "X_test = test.iloc[:,:-1]"
   ]
  },
  {
   "cell_type": "code",
   "execution_count": 98,
   "metadata": {},
   "outputs": [
    {
     "name": "stdout",
     "output_type": "stream",
     "text": [
      "0    11208\n",
      "1       21\n",
      "Name: MVP, dtype: int64\n"
     ]
    },
    {
     "data": {
      "text/plain": [
       "<AxesSubplot:>"
      ]
     },
     "execution_count": 98,
     "metadata": {},
     "output_type": "execute_result"
    },
    {
     "data": {
      "image/png": "[encoded data removed]",
      "text/plain": [
       "<Figure size 432x288 with 1 Axes>"
      ]
     },
     "metadata": {},
     "output_type": "display_data"
    }
   ],
   "source": [
    "#CHECK VALUES\n",
    "print(y.value_counts())\n",
    "y.value_counts().plot(kind='bar')"
   ]
  },
  {
   "cell_type": "markdown",
   "metadata": {},
   "source": [
    "Feature Selection"
   ]
  },
  {
   "cell_type": "markdown",
   "metadata": {},
   "source": [
    "Correlation heatmap"
   ]
  },
  {
   "cell_type": "code",
   "execution_count": 99,
   "metadata": {},
   "outputs": [
    {
     "data": {
      "image/png": "[encoded data removed]",
      "text/plain": [
       "<Figure size 432x288 with 2 Axes>"
      ]
     },
     "metadata": {},
     "output_type": "display_data"
    }
   ],
   "source": [
    "#CORRELATION HEATMAP\n",
    "corrmat = df.corr()\n",
    "\n",
    "k = 10 # show top k most correlated features\n",
    "cols = corrmat.nlargest(k, 'MVP')['MVP'].index\n",
    "cm = np.corrcoef(df[cols].values.T)\n",
    "sns.set(font_scale=1.0)\n",
    "hm = sns.heatmap(cm, cbar=True, annot=True, square=True, fmt='.2f', annot_kws={'size': 8}, yticklabels=cols.values, xticklabels=cols.values)\n",
    "plt.show()"
   ]
  },
  {
   "cell_type": "code",
   "execution_count": 100,
   "metadata": {},
   "outputs": [],
   "source": [
    "# DROP CORRELATED FEATURES\n",
    "X_corr = X.corr()\n",
    "corr_names = set()\n",
    "for i in range(len(X_corr .columns)):\n",
    "    for j in range(i):\n",
    "        if abs(X_corr.iloc[i, j]) > 0.8:\n",
    "            col = X_corr.columns[i]\n",
    "            corr_names.add(col)\n",
    "\n",
    "X.drop(columns=corr_names,inplace=True)\n",
    "X_test.drop(columns=corr_names,inplace=True)\n"
   ]
  },
  {
   "cell_type": "code",
   "execution_count": 101,
   "metadata": {},
   "outputs": [],
   "source": [
    "features = ['PLAYER_AGE', 'GP_player', 'GS', 'MIN', 'FGM_player', 'FGA_player',\n",
    "       'FG_PCT_player', 'FG3M_player', 'FG3A_player', 'FG3_PCT_player',\n",
    "       'FTM_player', 'FTA_player', 'FT_PCT_player', 'OREB_player',\n",
    "       'DREB_player', 'REB_player', 'AST_player', 'STL_player', 'BLK_player',\n",
    "       'TOV_player', 'PF_player', 'PTS_player', 'WINS','player_of_week', 'player_of_month']"
   ]
  },
  {
   "cell_type": "code",
   "execution_count": 102,
   "metadata": {},
   "outputs": [
    {
     "name": "stdout",
     "output_type": "stream",
     "text": [
      "Optimization terminated successfully.\n",
      "         Current function value: 0.003281\n",
      "         Iterations 23\n"
     ]
    },
    {
     "data": {
      "text/plain": [
       "player_of_week    0.000003\n",
       "PLAYER_AGE        0.000148\n",
       "MIN               0.000187\n",
       "FG_PCT            0.000721\n",
       "AST               0.000749\n",
       "PF                0.007967\n",
       "GS                0.009774\n",
       "FTA               0.009836\n",
       "FTM               0.022049\n",
       "GP                0.024100\n",
       "STL               0.026769\n",
       "Name: P>|z|, dtype: float64"
      ]
     },
     "execution_count": 102,
     "metadata": {},
     "output_type": "execute_result"
    }
   ],
   "source": [
    "import statsmodels.api as sm\n",
    "X_logit = X.drop(columns=['PLAYER_ID','SEASON_ID'])\n",
    "ols = sm.Logit(y,X_logit.astype('float'))\n",
    "result = ols.fit()\n",
    "p_values = result.summary2().tables[1]['P>|z|']\n",
    "p_values = pd.Series(p_values).sort_values(ascending = True)\n",
    "p_values[p_values<=0.05]"
   ]
  },
  {
   "cell_type": "code",
   "execution_count": 103,
   "metadata": {},
   "outputs": [
    {
     "name": "stdout",
     "output_type": "stream",
     "text": [
      "                           Results: Logit\n",
      "====================================================================\n",
      "Model:               Logit             Pseudo R-squared:  0.759     \n",
      "Dependent Variable:  MVP               AIC:               123.6756  \n",
      "Date:                2022-02-07 12:34  BIC:               306.8319  \n",
      "No. Observations:    11229             Log-Likelihood:    -36.838   \n",
      "Df Model:            24                LL-Null:           -152.90   \n",
      "Df Residuals:        11204             LLR p-value:       5.6153e-36\n",
      "Converged:           1.0000            Scale:             1.0000    \n",
      "No. Iterations:      23.0000                                        \n",
      "--------------------------------------------------------------------\n",
      "                  Coef.   Std.Err.    z    P>|z|    [0.025   0.975] \n",
      "--------------------------------------------------------------------\n",
      "PLAYER_AGE       -12.0455   3.1743 -3.7947 0.0001  -18.2670  -5.8240\n",
      "GP              -236.5829 104.8899 -2.2555 0.0241 -442.1633 -31.0025\n",
      "GS               284.5698 110.1386  2.5837 0.0098   68.7020 500.4375\n",
      "MIN              -66.2713  17.7378 -3.7362 0.0002 -101.0368 -31.5058\n",
      "FGM               20.0083  13.7044  1.4600 0.1443   -6.8519  46.8685\n",
      "FGA              -16.9591  11.4919 -1.4757 0.1400  -39.4829   5.5646\n",
      "FG_PCT           -34.2035  10.1147 -3.3816 0.0007  -54.0280 -14.3791\n",
      "FG3M              16.2962   8.6510  1.8837 0.0596   -0.6594  33.2519\n",
      "FG3A             -13.1426   8.8005 -1.4934 0.1353  -30.3911   4.1060\n",
      "FG3_PCT            9.6618   5.3342  1.8113 0.0701   -0.7929  20.1166\n",
      "FTM               22.8892   9.9973  2.2895 0.0220    3.2948  42.4836\n",
      "FTA              -19.3811   7.5076 -2.5815 0.0098  -34.0956  -4.6666\n",
      "FT_PCT            -1.0996   2.9328 -0.3749 0.7077   -6.8478   4.6485\n",
      "OREB               2.8523   8.7014  0.3278 0.7431  -14.2021  19.9068\n",
      "DREB              -4.6280  17.6899 -0.2616 0.7936  -39.2995  30.0435\n",
      "REB               14.5842  24.2772  0.6007 0.5480  -32.9983  62.1667\n",
      "AST               13.5616   4.0232  3.3709 0.0007    5.6763  21.4469\n",
      "STL               -7.1601   3.2327 -2.2149 0.0268  -13.4961  -0.8240\n",
      "BLK                7.4408   4.4422  1.6750 0.0939   -1.2658  16.1474\n",
      "TOV               -1.6999   5.4008 -0.3148 0.7529  -12.2854   8.8855\n",
      "PF               -13.6312   5.1371 -2.6535 0.0080  -23.6998  -3.5626\n",
      "PTS               13.5162  14.2452  0.9488 0.3427  -14.4039  41.4363\n",
      "WIN_PCT           -0.7983   1.2932 -0.6173 0.5370   -3.3331   1.7364\n",
      "player_of_week    11.7058   2.5094  4.6649 0.0000    6.7876  16.6241\n",
      "player_of_month    2.2437   1.3955  1.6078 0.1079   -0.4915   4.9788\n",
      "====================================================================\n",
      "\n"
     ]
    }
   ],
   "source": [
    "print(result.summary2())"
   ]
  },
  {
   "cell_type": "code",
   "execution_count": 104,
   "metadata": {},
   "outputs": [
    {
     "name": "stdout",
     "output_type": "stream",
     "text": [
      "0.6296296296296297\n"
     ]
    },
    {
     "data": {
      "text/plain": [
       "Text(0.5, 1.0, 'Lasso Regression')"
      ]
     },
     "execution_count": 104,
     "metadata": {},
     "output_type": "execute_result"
    },
    {
     "data": {
      "image/png": "[encoded data removed]",
      "text/plain": [
       "<Figure size 432x288 with 1 Axes>"
      ]
     },
     "metadata": {},
     "output_type": "display_data"
    }
   ],
   "source": [
    "from sklearn.linear_model import LogisticRegression\n",
    "from sklearn.metrics import roc_auc_score\n",
    "\n",
    "lr =LogisticRegression(penalty='l1',solver='liblinear',class_weight='balanced',C=0.5)\n",
    "lr.fit(X_logit,y)\n",
    "\n",
    "print(roc_auc_score(lr.predict(X_logit),y))\n",
    "\n",
    "# plot bar chart \n",
    "pd.DataFrame(np.abs(lr.coef_.reshape(-1,1)),index=X_logit.columns,columns=['coef']).sort_values(by=['coef'],ascending=False).head(10).plot(kind='bar')\n",
    "plt.title(\"Lasso Regression\")"
   ]
  },
  {
   "cell_type": "markdown",
   "metadata": {},
   "source": [
    "Recursive selection"
   ]
  },
  {
   "cell_type": "code",
   "execution_count": 105,
   "metadata": {},
   "outputs": [
    {
     "data": {
      "text/plain": [
       "Text(0.5, 1.0, 'Random Forest')"
      ]
     },
     "execution_count": 105,
     "metadata": {},
     "output_type": "execute_result"
    },
    {
     "data": {
      "image/png": "[encoded data removed]",
      "text/plain": [
       "<Figure size 432x288 with 1 Axes>"
      ]
     },
     "metadata": {},
     "output_type": "display_data"
    }
   ],
   "source": [
    "from sklearn.ensemble import RandomForestClassifier\n",
    "rf = RandomForestClassifier(max_features=10,random_state=42)\n",
    "rf.fit(X,y)\n",
    "importance = pd.DataFrame(rf.feature_importances_,index=X.columns.tolist(),columns=['importance']).sort_values(by='importance',ascending=False)\n",
    "importance.head(10).plot(kind='bar')\n",
    "plt.title(\"Random Forest\")"
   ]
  },
  {
   "cell_type": "markdown",
   "metadata": {},
   "source": [
    "Modeling"
   ]
  },
  {
   "cell_type": "code",
   "execution_count": 106,
   "metadata": {},
   "outputs": [],
   "source": [
    "from sklearn.model_selection import cross_val_score\n",
    "from sklearn.model_selection import RepeatedStratifiedKFold,StratifiedKFold\n",
    "from sklearn.metrics import classification_report,accuracy_score,precision_score, recall_score,roc_auc_score, f1_score,plot_confusion_matrix, plot_roc_curve,plot_precision_recall_curve\n",
    "\n",
    "model = RandomForestClassifier(random_state=42,class_weight=\"balanced\",max_depth=5,\n",
    "criterion='entropy',max_features='auto',n_estimators=500)\n",
    "\n",
    "cv = RepeatedStratifiedKFold(n_splits=10, n_repeats=3, random_state=42)\n",
    "scores = cross_val_score(model, X, y, scoring='roc_auc', cv=cv, n_jobs=-1)"
   ]
  },
  {
   "cell_type": "code",
   "execution_count": 107,
   "metadata": {},
   "outputs": [
    {
     "name": "stdout",
     "output_type": "stream",
     "text": [
      "=====cv score=====\n",
      "roc_auc_avg:0.997\n",
      "roc_auc_std:0.004\n"
     ]
    }
   ],
   "source": [
    "print(\"=====cv score=====\")\n",
    "print(\"roc_auc_avg:{:.3f}\".format(np.mean(scores)))\n",
    "print(\"roc_auc_std:{:.3f}\".format(np.std(scores)))"
   ]
  },
  {
   "cell_type": "code",
   "execution_count": 108,
   "metadata": {},
   "outputs": [
    {
     "data": {
      "text/plain": [
       "RandomForestClassifier(class_weight='balanced', criterion='entropy',\n",
       "                       max_depth=5, n_estimators=500, random_state=42)"
      ]
     },
     "execution_count": 108,
     "metadata": {},
     "output_type": "execute_result"
    }
   ],
   "source": [
    "model.fit(X,y)"
   ]
  },
  {
   "cell_type": "code",
   "execution_count": 109,
   "metadata": {},
   "outputs": [
    {
     "data": {
      "text/plain": [
       "<sklearn.metrics._plot.confusion_matrix.ConfusionMatrixDisplay at 0x22103080ee0>"
      ]
     },
     "execution_count": 109,
     "metadata": {},
     "output_type": "execute_result"
    },
    {
     "data": {
      "image/png": "[encoded data removed]",
      "text/plain": [
       "<Figure size 432x288 with 2 Axes>"
      ]
     },
     "metadata": {},
     "output_type": "display_data"
    }
   ],
   "source": [
    "from sklearn.metrics import plot_confusion_matrix, plot_roc_curve\n",
    "sns.set_style('white')\n",
    "plot_confusion_matrix(model,X,y)"
   ]
  },
  {
   "cell_type": "code",
   "execution_count": 110,
   "metadata": {},
   "outputs": [],
   "source": [
    "# fit to test set\n",
    "result = pd.DataFrame(model.predict_proba(X_test),index = X_test.PLAYER_ID)\n",
    "\n",
    "result.rename(columns={0:'not',1:'mvp'},inplace=True)\n",
    "\n",
    "#result['y/n'] = model.predict(X_test)"
   ]
  },
  {
   "cell_type": "code",
   "execution_count": 111,
   "metadata": {},
   "outputs": [],
   "source": [
    "mvp_candidates = result.sort_values(by='mvp',ascending=False)"
   ]
  },
  {
   "cell_type": "code",
   "execution_count": 112,
   "metadata": {},
   "outputs": [],
   "source": [
    "mvp_candidates.reset_index(inplace=True)"
   ]
  },
  {
   "cell_type": "code",
   "execution_count": 113,
   "metadata": {},
   "outputs": [],
   "source": [
    "mvp_candidates.drop(columns=['not'],inplace=True)"
   ]
  },
  {
   "cell_type": "code",
   "execution_count": 114,
   "metadata": {},
   "outputs": [
    {
     "name": "stdout",
     "output_type": "stream",
     "text": [
      "Number of players fetched: 4723\n"
     ]
    }
   ],
   "source": [
    "from nba_api.stats.static import players\n",
    "# get_players returns a list of dictionaries, each representing a player.\n",
    "nba_players = players.get_players()\n",
    "print('Number of players fetched: {}'.format(len(nba_players)))"
   ]
  },
  {
   "cell_type": "code",
   "execution_count": 115,
   "metadata": {},
   "outputs": [],
   "source": [
    "nba_players = pd.DataFrame(nba_players)"
   ]
  },
  {
   "cell_type": "code",
   "execution_count": 116,
   "metadata": {},
   "outputs": [],
   "source": [
    "nba_players.rename(columns={\"id\":\"PLAYER_ID\"},inplace = True)"
   ]
  },
  {
   "cell_type": "code",
   "execution_count": 117,
   "metadata": {},
   "outputs": [],
   "source": [
    "mvp_candidates = mvp_candidates.merge(nba_players.loc[:,['PLAYER_ID','full_name']],on='PLAYER_ID',how='left')"
   ]
  },
  {
   "cell_type": "code",
   "execution_count": 118,
   "metadata": {},
   "outputs": [
    {
     "data": {
      "text/html": [
       "<div><div id=b4d1063a-1200-4ee3-b755-7f6a539390db style=\"display:none; background-color:#9D6CFF; color:white; width:200px; height:30px; padding-left:5px; border-radius:4px; flex-direction:row; justify-content:space-around; align-items:center;\" onmouseover=\"this.style.backgroundColor='#BA9BF8'\" onmouseout=\"this.style.backgroundColor='#9D6CFF'\" onclick=\"window.commands?.execute('create-mitosheet-from-dataframe-output');\">See Full Dataframe in Mito</div> <script> if (window.commands.hasCommand('create-mitosheet-from-dataframe-output')) document.getElementById('b4d1063a-1200-4ee3-b755-7f6a539390db').style.display = 'flex' </script> <table border=\"1\" class=\"dataframe\">\n",
       "  <thead>\n",
       "    <tr style=\"text-align: right;\">\n",
       "      <th></th>\n",
       "      <th>PLAYER_ID</th>\n",
       "      <th>mvp</th>\n",
       "      <th>full_name</th>\n",
       "    </tr>\n",
       "  </thead>\n",
       "  <tbody>\n",
       "    <tr>\n",
       "      <th>0</th>\n",
       "      <td>201939</td>\n",
       "      <td>0.485146</td>\n",
       "      <td>Stephen Curry</td>\n",
       "    </tr>\n",
       "    <tr>\n",
       "      <th>1</th>\n",
       "      <td>1629027</td>\n",
       "      <td>0.214341</td>\n",
       "      <td>Trae Young</td>\n",
       "    </tr>\n",
       "    <tr>\n",
       "      <th>2</th>\n",
       "      <td>201935</td>\n",
       "      <td>0.129451</td>\n",
       "      <td>James Harden</td>\n",
       "    </tr>\n",
       "    <tr>\n",
       "      <th>3</th>\n",
       "      <td>1626164</td>\n",
       "      <td>0.113153</td>\n",
       "      <td>Devin Booker</td>\n",
       "    </tr>\n",
       "    <tr>\n",
       "      <th>4</th>\n",
       "      <td>1628970</td>\n",
       "      <td>0.076235</td>\n",
       "      <td>Miles Bridges</td>\n",
       "    </tr>\n",
       "    <tr>\n",
       "      <th>5</th>\n",
       "      <td>203999</td>\n",
       "      <td>0.075195</td>\n",
       "      <td>Nikola Jokic</td>\n",
       "    </tr>\n",
       "    <tr>\n",
       "      <th>6</th>\n",
       "      <td>203507</td>\n",
       "      <td>0.067218</td>\n",
       "      <td>Giannis Antetokounmpo</td>\n",
       "    </tr>\n",
       "    <tr>\n",
       "      <th>7</th>\n",
       "      <td>101108</td>\n",
       "      <td>0.058731</td>\n",
       "      <td>Chris Paul</td>\n",
       "    </tr>\n",
       "    <tr>\n",
       "      <th>8</th>\n",
       "      <td>1628369</td>\n",
       "      <td>0.046918</td>\n",
       "      <td>Jayson Tatum</td>\n",
       "    </tr>\n",
       "    <tr>\n",
       "      <th>9</th>\n",
       "      <td>201942</td>\n",
       "      <td>0.042710</td>\n",
       "      <td>DeMar DeRozan</td>\n",
       "    </tr>\n",
       "  </tbody>\n",
       "</table></div>"
      ],
      "text/plain": [
       "   PLAYER_ID       mvp              full_name\n",
       "0     201939  0.485146          Stephen Curry\n",
       "1    1629027  0.214341             Trae Young\n",
       "2     201935  0.129451           James Harden\n",
       "3    1626164  0.113153           Devin Booker\n",
       "4    1628970  0.076235          Miles Bridges\n",
       "5     203999  0.075195           Nikola Jokic\n",
       "6     203507  0.067218  Giannis Antetokounmpo\n",
       "7     101108  0.058731             Chris Paul\n",
       "8    1628369  0.046918           Jayson Tatum\n",
       "9     201942  0.042710          DeMar DeRozan"
      ]
     },
     "execution_count": 118,
     "metadata": {},
     "output_type": "execute_result"
    }
   ],
   "source": [
    "mvp_candidates.head(10)"
   ]
  },
  {
   "cell_type": "code",
   "execution_count": 159,
   "metadata": {},
   "outputs": [
    {
     "data": {
      "text/plain": [
       "<function matplotlib.pyplot.show(close=None, block=None)>"
      ]
     },
     "execution_count": 159,
     "metadata": {},
     "output_type": "execute_result"
    },
    {
     "data": {
      "image/png": "[encoded data removed]",
      "text/plain": [
       "<Figure size 1440x432 with 1 Axes>"
      ]
     },
     "metadata": {},
     "output_type": "display_data"
    }
   ],
   "source": [
    "fig, ax = plt.subplots(figsize=(20, 6))\n",
    "\n",
    "\n",
    "ax.bar(mvp_candidates.head(10)[\"full_name\"],mvp_candidates.head(10)[\"mvp\"], color= \"navy\", alpha= 0.8, edgecolor = \"darkblue\")\n",
    "\n",
    "\n",
    "# title and labels, setting initial sizes\n",
    "fig.suptitle('2021-22 MVP Predicitions', fontsize=24)\n",
    "ax.set_xlabel('Player', fontsize=20)\n",
    "ax.set_ylabel('Prediction', fontsize =20)\n",
    "\n",
    "\n",
    "\n",
    "fig.savefig(\"2021-22_MVP_PREDICT.PNG\", dpi = 300)\n",
    "\n",
    "plt.show\n"
   ]
  },
  {
   "cell_type": "code",
   "execution_count": null,
   "metadata": {},
   "outputs": [],
   "source": []
  }
 ],
 "metadata": {
  "interpreter": {
   "hash": "b3ba2566441a7c06988d0923437866b63cedc61552a5af99d1f4fb67d367b25f"
  },
  "kernelspec": {
   "display_name": "Python 3.9.7 64-bit ('base': conda)",
   "language": "python",
   "name": "python3"
  },
  "language_info": {
   "codemirror_mode": {
    "name": "ipython",
    "version": 3
   },
   "file_extension": ".py",
   "mimetype": "text/x-python",
   "name": "python",
   "nbconvert_exporter": "python",
   "pygments_lexer": "ipython3",
   "version": "3.9.7"
  },
  "orig_nbformat": 4
 },
 "nbformat": 4,
 "nbformat_minor": 2
}
