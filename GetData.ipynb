{
 "cells": [
  {
   "cell_type": "markdown",
   "metadata": {},
   "source": [
    "Get raw data using nba_api #https://github.com/swar/nba_api"
   ]
  },
  {
   "cell_type": "code",
   "execution_count": 1,
   "metadata": {},
   "outputs": [],
   "source": [
    "#IMPORTING MAIN PACKAGES\n",
    "import pandas as pd \n",
    "import numpy as np\n",
    "from tqdm import tqdm\n",
    "import pickle\n",
    "import matplotlib.pyplot as plt\n",
    "import seaborn as sns"
   ]
  },
  {
   "cell_type": "markdown",
   "metadata": {},
   "source": [
    "PLAYERS INFORMATION"
   ]
  },
  {
   "cell_type": "code",
   "execution_count": 2,
   "metadata": {},
   "outputs": [],
   "source": [
    "#IMPORTING PLAYERS INFO USING NBA_API\n",
    "from nba_api.stats.endpoints import commonallplayers"
   ]
  },
  {
   "cell_type": "code",
   "execution_count": 4,
   "metadata": {},
   "outputs": [],
   "source": [
    "#IMPORTING PLAYERS INFO\n",
    "all_players = commonallplayers.CommonAllPlayers().get_data_frames()[0]"
   ]
  },
  {
   "cell_type": "code",
   "execution_count": 5,
   "metadata": {},
   "outputs": [],
   "source": [
    "# CHANGE DATA TYPE\n",
    "all_players['TO_YEAR'] = all_players['TO_YEAR'].astype('int64')"
   ]
  },
  {
   "cell_type": "code",
   "execution_count": 6,
   "metadata": {},
   "outputs": [],
   "source": [
    "# FILTER ONLY SEASONS FROM 1990 TO 2021\n",
    "all_players = all_players[all_players['TO_YEAR']>=1990]"
   ]
  },
  {
   "cell_type": "code",
   "execution_count": 16,
   "metadata": {},
   "outputs": [],
   "source": [
    "# IMPORTING PLAYERS STATS USING NBA_API\n",
    "from nba_api.stats.endpoints import playercareerstats\n",
    "import time"
   ]
  },
  {
   "cell_type": "code",
   "execution_count": 17,
   "metadata": {},
   "outputs": [],
   "source": [
    "# ESTRACT ALL IDs\n",
    "players_ID = all_players['PERSON_ID']"
   ]
  },
  {
   "cell_type": "code",
   "execution_count": 18,
   "metadata": {},
   "outputs": [],
   "source": [
    "# INITIATE AN DATAFRAME FOR PLAYERS STATS\n",
    "players_stats = pd.DataFrame()\n",
    "# SAVE FAIL QUERIES\n",
    "error_log = []"
   ]
  },
  {
   "cell_type": "code",
   "execution_count": 19,
   "metadata": {},
   "outputs": [
    {
     "name": "stderr",
     "output_type": "stream",
     "text": [
      "100%|██████████| 2217/2217 [8:15:17<00:00, 13.40s/it]      \n"
     ]
    }
   ],
   "source": [
    "# EXTRACTING STATS\n",
    "for ID in tqdm(players_ID):\n",
    "    try:\n",
    "        time.sleep(1) # avoid too many queries submitted at the same time\n",
    "        career = playercareerstats.PlayerCareerStats(player_id=ID)\n",
    "        player_career = career.get_data_frames()[0]\n",
    "        players_stats = pd.concat([players_stats,player_career],axis=0,ignore_index=True)\n",
    "    except:\n",
    "        error_log.append(ID)"
   ]
  },
  {
   "cell_type": "code",
   "execution_count": 20,
   "metadata": {},
   "outputs": [
    {
     "name": "stderr",
     "output_type": "stream",
     "text": [
      "100%|██████████| 5/5 [00:14<00:00,  2.87s/it]\n"
     ]
    }
   ],
   "source": [
    "# RE-QUERING MISSING IDs\n",
    "for ID in tqdm(error_log):\n",
    "    try:\n",
    "        time.sleep(1)\n",
    "        career = playercareerstats.PlayerCareerStats(player_id=ID)\n",
    "        player_career = career.get_data_frames()[0]\n",
    "        players_stats = pd.concat([players_stats,player_career],axis=0,ignore_index=True)\n",
    "    except:\n",
    "        error_log.append(ID)"
   ]
  },
  {
   "cell_type": "code",
   "execution_count": 21,
   "metadata": {},
   "outputs": [],
   "source": [
    "#SAVING DATA IN AN DATASET .PKL\n",
    "with open(\"player_stats.pkl\",'wb') as f:\n",
    "    pickle.dump(players_stats,f)\n",
    "\n",
    "\n"
   ]
  },
  {
   "cell_type": "markdown",
   "metadata": {},
   "source": [
    "TEAMS INFO"
   ]
  },
  {
   "cell_type": "code",
   "execution_count": 22,
   "metadata": {},
   "outputs": [],
   "source": [
    "#IMPORTING TEAMS STATS AND INFO USING NBA_API\n",
    "from nba_api.stats.endpoints import teamyearbyyearstats\n",
    "from nba_api.stats.static import teams"
   ]
  },
  {
   "cell_type": "code",
   "execution_count": 23,
   "metadata": {},
   "outputs": [],
   "source": [
    "#IMPORTING TEAMS STATS AND INFO USING NBA_API\n",
    "nba_teams = teams.get_teams()"
   ]
  },
  {
   "cell_type": "code",
   "execution_count": 24,
   "metadata": {},
   "outputs": [
    {
     "name": "stderr",
     "output_type": "stream",
     "text": [
      "100%|██████████| 30/30 [01:00<00:00,  2.03s/it]\n"
     ]
    }
   ],
   "source": [
    "#EXTRACTING TEAMS STATS\n",
    "teams_stats = pd.DataFrame()\n",
    "error_teams =[]\n",
    "for i in tqdm(nba_teams):\n",
    "    try:\n",
    "        time.sleep(1)\n",
    "        team = teamyearbyyearstats.TeamYearByYearStats(team_id=i['id'])\n",
    "        team_data = team.get_data_frames()[0]\n",
    "        teams_stats = pd.concat([teams_stats,team_data],axis=0,ignore_index=True)\n",
    "    except:\n",
    "        error_teams.append(i)"
   ]
  },
  {
   "cell_type": "code",
   "execution_count": 25,
   "metadata": {},
   "outputs": [],
   "source": [
    "#SAVING DATA IN AN DATASET .PKL\n",
    "with open(\"teams_stats.pkl\",\"wb\") as f:\n",
    "    pickle.dump(teams_stats,f)\n"
   ]
  },
  {
   "cell_type": "markdown",
   "metadata": {},
   "source": [
    "AWARDS INFO"
   ]
  },
  {
   "cell_type": "code",
   "execution_count": 27,
   "metadata": {},
   "outputs": [],
   "source": [
    "#IMPORTING AWARDS INFO USING NBA_API\n",
    "from nba_api.stats.endpoints import playerawards"
   ]
  },
  {
   "cell_type": "code",
   "execution_count": 28,
   "metadata": {},
   "outputs": [
    {
     "name": "stderr",
     "output_type": "stream",
     "text": [
      " 96%|█████████▌| 2132/2217 [53:01<02:03,  1.45s/it] "
     ]
    }
   ],
   "source": [
    "#EXTRACTING TEAMS STATS\n",
    "players_awards = pd.DataFrame()\n",
    "error_awards = []\n",
    "for ID in tqdm(players_ID):\n",
    "    try:\n",
    "        time.sleep(1)\n",
    "        award = playerawards.PlayerAwards(player_id=ID)\n",
    "        award.get_data_frames()[0]\n",
    "        players_awards = pd.concat([players_awards,award.get_data_frames()[0]],axis=0,ignore_index=True)\n",
    "    except:\n",
    "        error_awards.append(ID)"
   ]
  },
  {
   "cell_type": "code",
   "execution_count": null,
   "metadata": {},
   "outputs": [
    {
     "name": "stderr",
     "output_type": "stream",
     "text": [
      "0it [00:00, ?it/s]\n"
     ]
    }
   ],
   "source": [
    "#RE-QUERING MISSING IDS\n",
    "for ID in tqdm(error_awards):\n",
    "    time.sleep(1)\n",
    "    award = playerawards.PlayerAwards(player_id=ID)\n",
    "    award.get_data_frames()[0]\n",
    "    players_awards = pd.concat([players_awards,award.get_data_frames()[0]],axis=0,ignore_index=True)"
   ]
  },
  {
   "cell_type": "code",
   "execution_count": null,
   "metadata": {},
   "outputs": [],
   "source": [
    "#SAVING DATA IN AN DATASET .PKL\n",
    "with open(\"players_awards.pkl\",\"wb\") as f:\n",
    "    pickle.dump(players_awards,f)"
   ]
  }
 ],
 "metadata": {
  "interpreter": {
   "hash": "f43ab0e47251fe695a1d247de4aafe0ac7df5db2e3d3f33eb2ad989985fd7b75"
  },
  "kernelspec": {
   "display_name": "Python 3.6.9 64-bit (conda)",
   "language": "python",
   "name": "python3"
  },
  "language_info": {
   "codemirror_mode": {
    "name": "ipython",
    "version": 3
   },
   "file_extension": ".py",
   "mimetype": "text/x-python",
   "name": "python",
   "nbconvert_exporter": "python",
   "pygments_lexer": "ipython3",
   "version": "3.9.7"
  },
  "orig_nbformat": 4
 },
 "nbformat": 4,
 "nbformat_minor": 2
}
